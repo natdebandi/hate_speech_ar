{
  "cells": [
    {
      "cell_type": "markdown",
      "metadata": {
        "id": "view-in-github",
        "colab_type": "text"
      },
      "source": [
        "<a href=\"https://colab.research.google.com/github/natdebandi/hate_speech_ar/blob/main/2_GPT_multiclass_batch.ipynb\" target=\"_parent\"><img src=\"https://colab.research.google.com/assets/colab-badge.svg\" alt=\"Open In Colab\"/></a>"
      ]
    },
    {
      "cell_type": "markdown",
      "metadata": {
        "id": "nmairhTcgdrz"
      },
      "source": [
        "# TP final - reconocimiento de discursos discriminatorios en Twitter\n",
        "\n",
        "## Clasificacion multietiquetas con GPT 4 mini (sin finetunning) por batch\n",
        "\n",
        "\n",
        "**Natalia Dedandi**\n",
        "\n",
        "\n",
        "\n"
      ]
    },
    {
      "cell_type": "markdown",
      "source": [
        "La documentación de la API se encuentra aqui:\n",
        "\n",
        "https://platform.openai.com/docs/api-reference/introduction\n",
        "\n"
      ],
      "metadata": {
        "id": "SK58lmcuEE09"
      }
    },
    {
      "cell_type": "code",
      "source": [
        "pip install openai"
      ],
      "metadata": {
        "colab": {
          "base_uri": "https://localhost:8080/"
        },
        "id": "_qGvz_HPEBx3",
        "outputId": "078a5d1a-436d-45d0-b366-43f2c6be34db"
      },
      "execution_count": null,
      "outputs": [
        {
          "output_type": "stream",
          "name": "stdout",
          "text": [
            "Requirement already satisfied: openai in /usr/local/lib/python3.10/dist-packages (1.37.0)\n",
            "Requirement already satisfied: anyio<5,>=3.5.0 in /usr/local/lib/python3.10/dist-packages (from openai) (3.7.1)\n",
            "Requirement already satisfied: distro<2,>=1.7.0 in /usr/lib/python3/dist-packages (from openai) (1.7.0)\n",
            "Requirement already satisfied: httpx<1,>=0.23.0 in /usr/local/lib/python3.10/dist-packages (from openai) (0.27.0)\n",
            "Requirement already satisfied: pydantic<3,>=1.9.0 in /usr/local/lib/python3.10/dist-packages (from openai) (2.8.2)\n",
            "Requirement already satisfied: sniffio in /usr/local/lib/python3.10/dist-packages (from openai) (1.3.1)\n",
            "Requirement already satisfied: tqdm>4 in /usr/local/lib/python3.10/dist-packages (from openai) (4.66.4)\n",
            "Requirement already satisfied: typing-extensions<5,>=4.7 in /usr/local/lib/python3.10/dist-packages (from openai) (4.12.2)\n",
            "Requirement already satisfied: idna>=2.8 in /usr/local/lib/python3.10/dist-packages (from anyio<5,>=3.5.0->openai) (3.7)\n",
            "Requirement already satisfied: exceptiongroup in /usr/local/lib/python3.10/dist-packages (from anyio<5,>=3.5.0->openai) (1.2.2)\n",
            "Requirement already satisfied: certifi in /usr/local/lib/python3.10/dist-packages (from httpx<1,>=0.23.0->openai) (2024.7.4)\n",
            "Requirement already satisfied: httpcore==1.* in /usr/local/lib/python3.10/dist-packages (from httpx<1,>=0.23.0->openai) (1.0.5)\n",
            "Requirement already satisfied: h11<0.15,>=0.13 in /usr/local/lib/python3.10/dist-packages (from httpcore==1.*->httpx<1,>=0.23.0->openai) (0.14.0)\n",
            "Requirement already satisfied: annotated-types>=0.4.0 in /usr/local/lib/python3.10/dist-packages (from pydantic<3,>=1.9.0->openai) (0.7.0)\n",
            "Requirement already satisfied: pydantic-core==2.20.1 in /usr/local/lib/python3.10/dist-packages (from pydantic<3,>=1.9.0->openai) (2.20.1)\n"
          ]
        }
      ]
    },
    {
      "cell_type": "code",
      "source": [
        "!pip install datasets seaborn\n"
      ],
      "metadata": {
        "colab": {
          "base_uri": "https://localhost:8080/"
        },
        "id": "XT-FFaVaaLu8",
        "outputId": "f960133b-31f0-4d94-c83e-de13fddca460"
      },
      "execution_count": null,
      "outputs": [
        {
          "output_type": "stream",
          "name": "stdout",
          "text": [
            "Requirement already satisfied: datasets in /usr/local/lib/python3.10/dist-packages (2.20.0)\n",
            "Requirement already satisfied: seaborn in /usr/local/lib/python3.10/dist-packages (0.13.1)\n",
            "Requirement already satisfied: filelock in /usr/local/lib/python3.10/dist-packages (from datasets) (3.15.4)\n",
            "Requirement already satisfied: numpy>=1.17 in /usr/local/lib/python3.10/dist-packages (from datasets) (1.25.2)\n",
            "Requirement already satisfied: pyarrow>=15.0.0 in /usr/local/lib/python3.10/dist-packages (from datasets) (17.0.0)\n",
            "Requirement already satisfied: pyarrow-hotfix in /usr/local/lib/python3.10/dist-packages (from datasets) (0.6)\n",
            "Requirement already satisfied: dill<0.3.9,>=0.3.0 in /usr/local/lib/python3.10/dist-packages (from datasets) (0.3.8)\n",
            "Requirement already satisfied: pandas in /usr/local/lib/python3.10/dist-packages (from datasets) (2.0.3)\n",
            "Requirement already satisfied: requests>=2.32.2 in /usr/local/lib/python3.10/dist-packages (from datasets) (2.32.3)\n",
            "Requirement already satisfied: tqdm>=4.66.3 in /usr/local/lib/python3.10/dist-packages (from datasets) (4.66.4)\n",
            "Requirement already satisfied: xxhash in /usr/local/lib/python3.10/dist-packages (from datasets) (3.4.1)\n",
            "Requirement already satisfied: multiprocess in /usr/local/lib/python3.10/dist-packages (from datasets) (0.70.16)\n",
            "Requirement already satisfied: fsspec<=2024.5.0,>=2023.1.0 in /usr/local/lib/python3.10/dist-packages (from fsspec[http]<=2024.5.0,>=2023.1.0->datasets) (2023.6.0)\n",
            "Requirement already satisfied: aiohttp in /usr/local/lib/python3.10/dist-packages (from datasets) (3.9.5)\n",
            "Requirement already satisfied: huggingface-hub>=0.21.2 in /usr/local/lib/python3.10/dist-packages (from datasets) (0.23.5)\n",
            "Requirement already satisfied: packaging in /usr/local/lib/python3.10/dist-packages (from datasets) (24.1)\n",
            "Requirement already satisfied: pyyaml>=5.1 in /usr/local/lib/python3.10/dist-packages (from datasets) (6.0.1)\n",
            "Requirement already satisfied: matplotlib!=3.6.1,>=3.4 in /usr/local/lib/python3.10/dist-packages (from seaborn) (3.7.1)\n",
            "Requirement already satisfied: aiosignal>=1.1.2 in /usr/local/lib/python3.10/dist-packages (from aiohttp->datasets) (1.3.1)\n",
            "Requirement already satisfied: attrs>=17.3.0 in /usr/local/lib/python3.10/dist-packages (from aiohttp->datasets) (23.2.0)\n",
            "Requirement already satisfied: frozenlist>=1.1.1 in /usr/local/lib/python3.10/dist-packages (from aiohttp->datasets) (1.4.1)\n",
            "Requirement already satisfied: multidict<7.0,>=4.5 in /usr/local/lib/python3.10/dist-packages (from aiohttp->datasets) (6.0.5)\n",
            "Requirement already satisfied: yarl<2.0,>=1.0 in /usr/local/lib/python3.10/dist-packages (from aiohttp->datasets) (1.9.4)\n",
            "Requirement already satisfied: async-timeout<5.0,>=4.0 in /usr/local/lib/python3.10/dist-packages (from aiohttp->datasets) (4.0.3)\n",
            "Requirement already satisfied: typing-extensions>=3.7.4.3 in /usr/local/lib/python3.10/dist-packages (from huggingface-hub>=0.21.2->datasets) (4.12.2)\n",
            "Requirement already satisfied: contourpy>=1.0.1 in /usr/local/lib/python3.10/dist-packages (from matplotlib!=3.6.1,>=3.4->seaborn) (1.2.1)\n",
            "Requirement already satisfied: cycler>=0.10 in /usr/local/lib/python3.10/dist-packages (from matplotlib!=3.6.1,>=3.4->seaborn) (0.12.1)\n",
            "Requirement already satisfied: fonttools>=4.22.0 in /usr/local/lib/python3.10/dist-packages (from matplotlib!=3.6.1,>=3.4->seaborn) (4.53.1)\n",
            "Requirement already satisfied: kiwisolver>=1.0.1 in /usr/local/lib/python3.10/dist-packages (from matplotlib!=3.6.1,>=3.4->seaborn) (1.4.5)\n",
            "Requirement already satisfied: pillow>=6.2.0 in /usr/local/lib/python3.10/dist-packages (from matplotlib!=3.6.1,>=3.4->seaborn) (9.4.0)\n",
            "Requirement already satisfied: pyparsing>=2.3.1 in /usr/local/lib/python3.10/dist-packages (from matplotlib!=3.6.1,>=3.4->seaborn) (3.1.2)\n",
            "Requirement already satisfied: python-dateutil>=2.7 in /usr/local/lib/python3.10/dist-packages (from matplotlib!=3.6.1,>=3.4->seaborn) (2.8.2)\n",
            "Requirement already satisfied: pytz>=2020.1 in /usr/local/lib/python3.10/dist-packages (from pandas->datasets) (2023.4)\n",
            "Requirement already satisfied: tzdata>=2022.1 in /usr/local/lib/python3.10/dist-packages (from pandas->datasets) (2024.1)\n",
            "Requirement already satisfied: charset-normalizer<4,>=2 in /usr/local/lib/python3.10/dist-packages (from requests>=2.32.2->datasets) (3.3.2)\n",
            "Requirement already satisfied: idna<4,>=2.5 in /usr/local/lib/python3.10/dist-packages (from requests>=2.32.2->datasets) (3.7)\n",
            "Requirement already satisfied: urllib3<3,>=1.21.1 in /usr/local/lib/python3.10/dist-packages (from requests>=2.32.2->datasets) (2.0.7)\n",
            "Requirement already satisfied: certifi>=2017.4.17 in /usr/local/lib/python3.10/dist-packages (from requests>=2.32.2->datasets) (2024.7.4)\n",
            "Requirement already satisfied: six>=1.5 in /usr/local/lib/python3.10/dist-packages (from python-dateutil>=2.7->matplotlib!=3.6.1,>=3.4->seaborn) (1.16.0)\n"
          ]
        }
      ]
    },
    {
      "cell_type": "code",
      "source": [
        "import json\n",
        "from openai import OpenAI\n",
        "import os\n",
        "from google.colab import userdata\n",
        "#seteo la KEY\n",
        "os.environ['OPENAI_API_KEY'] = userdata.get('openIA_key')\n",
        "\n",
        "\n"
      ],
      "metadata": {
        "id": "2wqMHCaUHS6v"
      },
      "execution_count": null,
      "outputs": []
    },
    {
      "cell_type": "code",
      "execution_count": null,
      "metadata": {
        "id": "ZolEJGPsOpBd"
      },
      "outputs": [],
      "source": [
        "#creo el cliente OPENAI con mi usuario y proyecto\n",
        "client = OpenAI(\n",
        "  organization='org-1uHjwiaB3OlPzoxfVzhqOSzs',\n",
        "  project='proj_2fII7izwVGgYaERNNKhhMx4l',\n",
        ")"
      ]
    },
    {
      "cell_type": "markdown",
      "source": [
        "Debo cargar mi dataset de TEST y pasarle un archivo BATCH para que lo procese\n",
        "\n",
        "Usare este mensaje para cada Tweet:\n",
        "\n",
        "\"role\": \"system\", \"content\": \"You are trained to analyze and detect the sentiment of the given text. Only hateful or not hateful is allowed. The answer should be in spanish\""
      ],
      "metadata": {
        "id": "LuS4M9bZg7vr"
      }
    },
    {
      "cell_type": "code",
      "source": [
        "from datasets import load_dataset\n",
        "import pandas as pd\n",
        "\n",
        "ds1 = load_dataset(\"piuba-bigdata/contextualized_hate_speech\")\n"
      ],
      "metadata": {
        "id": "WDk7IiM3eJZw"
      },
      "execution_count": null,
      "outputs": []
    },
    {
      "cell_type": "code",
      "source": [
        "ds1"
      ],
      "metadata": {
        "colab": {
          "base_uri": "https://localhost:8080/"
        },
        "id": "NLRdPhPkh6pE",
        "outputId": "cdf24588-39a8-4cd1-a702-993a01a8fb61"
      },
      "execution_count": null,
      "outputs": [
        {
          "output_type": "execute_result",
          "data": {
            "text/plain": [
              "DatasetDict({\n",
              "    train: Dataset({\n",
              "        features: ['id', 'title', 'text', 'context_tweet', 'HATEFUL', 'body', 'CALLS', 'WOMEN', 'LGBTI', 'RACISM', 'CLASS', 'POLITICS', 'DISABLED', 'APPEARANCE', 'CRIMINAL'],\n",
              "        num_rows: 36420\n",
              "    })\n",
              "    test: Dataset({\n",
              "        features: ['id', 'title', 'text', 'context_tweet', 'HATEFUL', 'body', 'CALLS', 'WOMEN', 'LGBTI', 'RACISM', 'CLASS', 'POLITICS', 'DISABLED', 'APPEARANCE', 'CRIMINAL'],\n",
              "        num_rows: 11343\n",
              "    })\n",
              "    dev: Dataset({\n",
              "        features: ['id', 'title', 'text', 'context_tweet', 'HATEFUL', 'body', 'CALLS', 'WOMEN', 'LGBTI', 'RACISM', 'CLASS', 'POLITICS', 'DISABLED', 'APPEARANCE', 'CRIMINAL'],\n",
              "        num_rows: 9106\n",
              "    })\n",
              "})"
            ]
          },
          "metadata": {},
          "execution_count": 81
        }
      ]
    },
    {
      "cell_type": "code",
      "source": [
        "#tomo una muestra de 100 TW random\n",
        "df_test = pd.DataFrame(ds1['test'])\n",
        "df_test"
      ],
      "metadata": {
        "colab": {
          "base_uri": "https://localhost:8080/",
          "height": 597
        },
        "id": "IyJmFyDzaQs6",
        "outputId": "01176ce7-3039-4fca-ee4e-96a3ad58efd1"
      },
      "execution_count": null,
      "outputs": [
        {
          "output_type": "execute_result",
          "data": {
            "text/plain": [
              "           id                                              title  \\\n",
              "0      397703  Mora Godoy cierra su escuela de tango y remata...   \n",
              "1      397704  Mora Godoy cierra su escuela de tango y remata...   \n",
              "2      397705  Mora Godoy cierra su escuela de tango y remata...   \n",
              "3      397706  Mora Godoy cierra su escuela de tango y remata...   \n",
              "4      397707  Mora Godoy cierra su escuela de tango y remata...   \n",
              "...       ...                                                ...   \n",
              "11338  361071  Nahir Galarza sumó a una abogada feminista a s...   \n",
              "11339  361072  Nahir Galarza sumó a una abogada feminista a s...   \n",
              "11340  361073  Nahir Galarza sumó a una abogada feminista a s...   \n",
              "11341  361074  Nahir Galarza sumó a una abogada feminista a s...   \n",
              "11342  361075  Nahir Galarza sumó a una abogada feminista a s...   \n",
              "\n",
              "                                                    text  \\\n",
              "0              @usuario Ojalá se funda y cague de hambre   \n",
              "1      @usuario Faltó que se enganchó al hijo de sofo...   \n",
              "2      @usuario y bue, que le vaya a llorar a Cristin...   \n",
              "3      @usuario @usuario Jodete. Macri te hizo conoce...   \n",
              "4      @usuario Que se joda, es su gobierno el que el...   \n",
              "...                                                  ...   \n",
              "11338  @usuario Con esa varita q no rompe un plato ni...   \n",
              "11339  @usuario No las entiendo a estas pelotudas. So...   \n",
              "11340                 @usuario Lo mató por qué es macho!   \n",
              "11341  @usuario Cuando sos asesina tenés que hacerte ...   \n",
              "11342  @usuario La quieren liberar a toda costa a est...   \n",
              "\n",
              "                                           context_tweet  HATEFUL  \\\n",
              "0      Mora Godoy cierra su escuela de tango y remata...        0   \n",
              "1      Mora Godoy cierra su escuela de tango y remata...        1   \n",
              "2      Mora Godoy cierra su escuela de tango y remata...        0   \n",
              "3      Mora Godoy cierra su escuela de tango y remata...        0   \n",
              "4      Mora Godoy cierra su escuela de tango y remata...        0   \n",
              "...                                                  ...      ...   \n",
              "11338  Nahir Galarza sumó a una abogada feminista a s...        0   \n",
              "11339  Nahir Galarza sumó a una abogada feminista a s...        1   \n",
              "11340  Nahir Galarza sumó a una abogada feminista a s...        0   \n",
              "11341  Nahir Galarza sumó a una abogada feminista a s...        0   \n",
              "11342  Nahir Galarza sumó a una abogada feminista a s...        1   \n",
              "\n",
              "                                                    body  CALLS  WOMEN  LGBTI  \\\n",
              "0      Puede marcar con justeza la fecha de inicio de...      0      0      0   \n",
              "1      Puede marcar con justeza la fecha de inicio de...      0      1      0   \n",
              "2      Puede marcar con justeza la fecha de inicio de...      0      0      0   \n",
              "3      Puede marcar con justeza la fecha de inicio de...      0      0      0   \n",
              "4      Puede marcar con justeza la fecha de inicio de...      0      0      0   \n",
              "...                                                  ...    ...    ...    ...   \n",
              "11338  La defensa de Nahir Galarza, condenada el 3 de...      0      0      0   \n",
              "11339  La defensa de Nahir Galarza, condenada el 3 de...      0      1      0   \n",
              "11340  La defensa de Nahir Galarza, condenada el 3 de...      0      0      0   \n",
              "11341  La defensa de Nahir Galarza, condenada el 3 de...      0      0      0   \n",
              "11342  La defensa de Nahir Galarza, condenada el 3 de...      0      1      0   \n",
              "\n",
              "       RACISM  CLASS  POLITICS  DISABLED  APPEARANCE  CRIMINAL  \n",
              "0           0      0         0         0           0         0  \n",
              "1           0      0         0         0           0         0  \n",
              "2           0      0         0         0           0         0  \n",
              "3           0      0         0         0           0         0  \n",
              "4           0      0         0         0           0         0  \n",
              "...       ...    ...       ...       ...         ...       ...  \n",
              "11338       0      0         0         0           0         0  \n",
              "11339       0      0         0         0           0         0  \n",
              "11340       0      0         0         0           0         0  \n",
              "11341       0      0         0         0           0         0  \n",
              "11342       0      0         0         0           0         1  \n",
              "\n",
              "[11343 rows x 15 columns]"
            ],
            "text/html": [
              "\n",
              "  <div id=\"df-1c2c6edd-3f69-43c5-9eb0-f0caf455935d\" class=\"colab-df-container\">\n",
              "    <div>\n",
              "<style scoped>\n",
              "    .dataframe tbody tr th:only-of-type {\n",
              "        vertical-align: middle;\n",
              "    }\n",
              "\n",
              "    .dataframe tbody tr th {\n",
              "        vertical-align: top;\n",
              "    }\n",
              "\n",
              "    .dataframe thead th {\n",
              "        text-align: right;\n",
              "    }\n",
              "</style>\n",
              "<table border=\"1\" class=\"dataframe\">\n",
              "  <thead>\n",
              "    <tr style=\"text-align: right;\">\n",
              "      <th></th>\n",
              "      <th>id</th>\n",
              "      <th>title</th>\n",
              "      <th>text</th>\n",
              "      <th>context_tweet</th>\n",
              "      <th>HATEFUL</th>\n",
              "      <th>body</th>\n",
              "      <th>CALLS</th>\n",
              "      <th>WOMEN</th>\n",
              "      <th>LGBTI</th>\n",
              "      <th>RACISM</th>\n",
              "      <th>CLASS</th>\n",
              "      <th>POLITICS</th>\n",
              "      <th>DISABLED</th>\n",
              "      <th>APPEARANCE</th>\n",
              "      <th>CRIMINAL</th>\n",
              "    </tr>\n",
              "  </thead>\n",
              "  <tbody>\n",
              "    <tr>\n",
              "      <th>0</th>\n",
              "      <td>397703</td>\n",
              "      <td>Mora Godoy cierra su escuela de tango y remata...</td>\n",
              "      <td>@usuario Ojalá se funda y cague de hambre</td>\n",
              "      <td>Mora Godoy cierra su escuela de tango y remata...</td>\n",
              "      <td>0</td>\n",
              "      <td>Puede marcar con justeza la fecha de inicio de...</td>\n",
              "      <td>0</td>\n",
              "      <td>0</td>\n",
              "      <td>0</td>\n",
              "      <td>0</td>\n",
              "      <td>0</td>\n",
              "      <td>0</td>\n",
              "      <td>0</td>\n",
              "      <td>0</td>\n",
              "      <td>0</td>\n",
              "    </tr>\n",
              "    <tr>\n",
              "      <th>1</th>\n",
              "      <td>397704</td>\n",
              "      <td>Mora Godoy cierra su escuela de tango y remata...</td>\n",
              "      <td>@usuario Faltó que se enganchó al hijo de sofo...</td>\n",
              "      <td>Mora Godoy cierra su escuela de tango y remata...</td>\n",
              "      <td>1</td>\n",
              "      <td>Puede marcar con justeza la fecha de inicio de...</td>\n",
              "      <td>0</td>\n",
              "      <td>1</td>\n",
              "      <td>0</td>\n",
              "      <td>0</td>\n",
              "      <td>0</td>\n",
              "      <td>0</td>\n",
              "      <td>0</td>\n",
              "      <td>0</td>\n",
              "      <td>0</td>\n",
              "    </tr>\n",
              "    <tr>\n",
              "      <th>2</th>\n",
              "      <td>397705</td>\n",
              "      <td>Mora Godoy cierra su escuela de tango y remata...</td>\n",
              "      <td>@usuario y bue, que le vaya a llorar a Cristin...</td>\n",
              "      <td>Mora Godoy cierra su escuela de tango y remata...</td>\n",
              "      <td>0</td>\n",
              "      <td>Puede marcar con justeza la fecha de inicio de...</td>\n",
              "      <td>0</td>\n",
              "      <td>0</td>\n",
              "      <td>0</td>\n",
              "      <td>0</td>\n",
              "      <td>0</td>\n",
              "      <td>0</td>\n",
              "      <td>0</td>\n",
              "      <td>0</td>\n",
              "      <td>0</td>\n",
              "    </tr>\n",
              "    <tr>\n",
              "      <th>3</th>\n",
              "      <td>397706</td>\n",
              "      <td>Mora Godoy cierra su escuela de tango y remata...</td>\n",
              "      <td>@usuario @usuario Jodete. Macri te hizo conoce...</td>\n",
              "      <td>Mora Godoy cierra su escuela de tango y remata...</td>\n",
              "      <td>0</td>\n",
              "      <td>Puede marcar con justeza la fecha de inicio de...</td>\n",
              "      <td>0</td>\n",
              "      <td>0</td>\n",
              "      <td>0</td>\n",
              "      <td>0</td>\n",
              "      <td>0</td>\n",
              "      <td>0</td>\n",
              "      <td>0</td>\n",
              "      <td>0</td>\n",
              "      <td>0</td>\n",
              "    </tr>\n",
              "    <tr>\n",
              "      <th>4</th>\n",
              "      <td>397707</td>\n",
              "      <td>Mora Godoy cierra su escuela de tango y remata...</td>\n",
              "      <td>@usuario Que se joda, es su gobierno el que el...</td>\n",
              "      <td>Mora Godoy cierra su escuela de tango y remata...</td>\n",
              "      <td>0</td>\n",
              "      <td>Puede marcar con justeza la fecha de inicio de...</td>\n",
              "      <td>0</td>\n",
              "      <td>0</td>\n",
              "      <td>0</td>\n",
              "      <td>0</td>\n",
              "      <td>0</td>\n",
              "      <td>0</td>\n",
              "      <td>0</td>\n",
              "      <td>0</td>\n",
              "      <td>0</td>\n",
              "    </tr>\n",
              "    <tr>\n",
              "      <th>...</th>\n",
              "      <td>...</td>\n",
              "      <td>...</td>\n",
              "      <td>...</td>\n",
              "      <td>...</td>\n",
              "      <td>...</td>\n",
              "      <td>...</td>\n",
              "      <td>...</td>\n",
              "      <td>...</td>\n",
              "      <td>...</td>\n",
              "      <td>...</td>\n",
              "      <td>...</td>\n",
              "      <td>...</td>\n",
              "      <td>...</td>\n",
              "      <td>...</td>\n",
              "      <td>...</td>\n",
              "    </tr>\n",
              "    <tr>\n",
              "      <th>11338</th>\n",
              "      <td>361071</td>\n",
              "      <td>Nahir Galarza sumó a una abogada feminista a s...</td>\n",
              "      <td>@usuario Con esa varita q no rompe un plato ni...</td>\n",
              "      <td>Nahir Galarza sumó a una abogada feminista a s...</td>\n",
              "      <td>0</td>\n",
              "      <td>La defensa de Nahir Galarza, condenada el 3 de...</td>\n",
              "      <td>0</td>\n",
              "      <td>0</td>\n",
              "      <td>0</td>\n",
              "      <td>0</td>\n",
              "      <td>0</td>\n",
              "      <td>0</td>\n",
              "      <td>0</td>\n",
              "      <td>0</td>\n",
              "      <td>0</td>\n",
              "    </tr>\n",
              "    <tr>\n",
              "      <th>11339</th>\n",
              "      <td>361072</td>\n",
              "      <td>Nahir Galarza sumó a una abogada feminista a s...</td>\n",
              "      <td>@usuario No las entiendo a estas pelotudas. So...</td>\n",
              "      <td>Nahir Galarza sumó a una abogada feminista a s...</td>\n",
              "      <td>1</td>\n",
              "      <td>La defensa de Nahir Galarza, condenada el 3 de...</td>\n",
              "      <td>0</td>\n",
              "      <td>1</td>\n",
              "      <td>0</td>\n",
              "      <td>0</td>\n",
              "      <td>0</td>\n",
              "      <td>0</td>\n",
              "      <td>0</td>\n",
              "      <td>0</td>\n",
              "      <td>0</td>\n",
              "    </tr>\n",
              "    <tr>\n",
              "      <th>11340</th>\n",
              "      <td>361073</td>\n",
              "      <td>Nahir Galarza sumó a una abogada feminista a s...</td>\n",
              "      <td>@usuario Lo mató por qué es macho!</td>\n",
              "      <td>Nahir Galarza sumó a una abogada feminista a s...</td>\n",
              "      <td>0</td>\n",
              "      <td>La defensa de Nahir Galarza, condenada el 3 de...</td>\n",
              "      <td>0</td>\n",
              "      <td>0</td>\n",
              "      <td>0</td>\n",
              "      <td>0</td>\n",
              "      <td>0</td>\n",
              "      <td>0</td>\n",
              "      <td>0</td>\n",
              "      <td>0</td>\n",
              "      <td>0</td>\n",
              "    </tr>\n",
              "    <tr>\n",
              "      <th>11341</th>\n",
              "      <td>361074</td>\n",
              "      <td>Nahir Galarza sumó a una abogada feminista a s...</td>\n",
              "      <td>@usuario Cuando sos asesina tenés que hacerte ...</td>\n",
              "      <td>Nahir Galarza sumó a una abogada feminista a s...</td>\n",
              "      <td>0</td>\n",
              "      <td>La defensa de Nahir Galarza, condenada el 3 de...</td>\n",
              "      <td>0</td>\n",
              "      <td>0</td>\n",
              "      <td>0</td>\n",
              "      <td>0</td>\n",
              "      <td>0</td>\n",
              "      <td>0</td>\n",
              "      <td>0</td>\n",
              "      <td>0</td>\n",
              "      <td>0</td>\n",
              "    </tr>\n",
              "    <tr>\n",
              "      <th>11342</th>\n",
              "      <td>361075</td>\n",
              "      <td>Nahir Galarza sumó a una abogada feminista a s...</td>\n",
              "      <td>@usuario La quieren liberar a toda costa a est...</td>\n",
              "      <td>Nahir Galarza sumó a una abogada feminista a s...</td>\n",
              "      <td>1</td>\n",
              "      <td>La defensa de Nahir Galarza, condenada el 3 de...</td>\n",
              "      <td>0</td>\n",
              "      <td>1</td>\n",
              "      <td>0</td>\n",
              "      <td>0</td>\n",
              "      <td>0</td>\n",
              "      <td>0</td>\n",
              "      <td>0</td>\n",
              "      <td>0</td>\n",
              "      <td>1</td>\n",
              "    </tr>\n",
              "  </tbody>\n",
              "</table>\n",
              "<p>11343 rows × 15 columns</p>\n",
              "</div>\n",
              "    <div class=\"colab-df-buttons\">\n",
              "\n",
              "  <div class=\"colab-df-container\">\n",
              "    <button class=\"colab-df-convert\" onclick=\"convertToInteractive('df-1c2c6edd-3f69-43c5-9eb0-f0caf455935d')\"\n",
              "            title=\"Convert this dataframe to an interactive table.\"\n",
              "            style=\"display:none;\">\n",
              "\n",
              "  <svg xmlns=\"http://www.w3.org/2000/svg\" height=\"24px\" viewBox=\"0 -960 960 960\">\n",
              "    <path d=\"M120-120v-720h720v720H120Zm60-500h600v-160H180v160Zm220 220h160v-160H400v160Zm0 220h160v-160H400v160ZM180-400h160v-160H180v160Zm440 0h160v-160H620v160ZM180-180h160v-160H180v160Zm440 0h160v-160H620v160Z\"/>\n",
              "  </svg>\n",
              "    </button>\n",
              "\n",
              "  <style>\n",
              "    .colab-df-container {\n",
              "      display:flex;\n",
              "      gap: 12px;\n",
              "    }\n",
              "\n",
              "    .colab-df-convert {\n",
              "      background-color: #E8F0FE;\n",
              "      border: none;\n",
              "      border-radius: 50%;\n",
              "      cursor: pointer;\n",
              "      display: none;\n",
              "      fill: #1967D2;\n",
              "      height: 32px;\n",
              "      padding: 0 0 0 0;\n",
              "      width: 32px;\n",
              "    }\n",
              "\n",
              "    .colab-df-convert:hover {\n",
              "      background-color: #E2EBFA;\n",
              "      box-shadow: 0px 1px 2px rgba(60, 64, 67, 0.3), 0px 1px 3px 1px rgba(60, 64, 67, 0.15);\n",
              "      fill: #174EA6;\n",
              "    }\n",
              "\n",
              "    .colab-df-buttons div {\n",
              "      margin-bottom: 4px;\n",
              "    }\n",
              "\n",
              "    [theme=dark] .colab-df-convert {\n",
              "      background-color: #3B4455;\n",
              "      fill: #D2E3FC;\n",
              "    }\n",
              "\n",
              "    [theme=dark] .colab-df-convert:hover {\n",
              "      background-color: #434B5C;\n",
              "      box-shadow: 0px 1px 3px 1px rgba(0, 0, 0, 0.15);\n",
              "      filter: drop-shadow(0px 1px 2px rgba(0, 0, 0, 0.3));\n",
              "      fill: #FFFFFF;\n",
              "    }\n",
              "  </style>\n",
              "\n",
              "    <script>\n",
              "      const buttonEl =\n",
              "        document.querySelector('#df-1c2c6edd-3f69-43c5-9eb0-f0caf455935d button.colab-df-convert');\n",
              "      buttonEl.style.display =\n",
              "        google.colab.kernel.accessAllowed ? 'block' : 'none';\n",
              "\n",
              "      async function convertToInteractive(key) {\n",
              "        const element = document.querySelector('#df-1c2c6edd-3f69-43c5-9eb0-f0caf455935d');\n",
              "        const dataTable =\n",
              "          await google.colab.kernel.invokeFunction('convertToInteractive',\n",
              "                                                    [key], {});\n",
              "        if (!dataTable) return;\n",
              "\n",
              "        const docLinkHtml = 'Like what you see? Visit the ' +\n",
              "          '<a target=\"_blank\" href=https://colab.research.google.com/notebooks/data_table.ipynb>data table notebook</a>'\n",
              "          + ' to learn more about interactive tables.';\n",
              "        element.innerHTML = '';\n",
              "        dataTable['output_type'] = 'display_data';\n",
              "        await google.colab.output.renderOutput(dataTable, element);\n",
              "        const docLink = document.createElement('div');\n",
              "        docLink.innerHTML = docLinkHtml;\n",
              "        element.appendChild(docLink);\n",
              "      }\n",
              "    </script>\n",
              "  </div>\n",
              "\n",
              "\n",
              "<div id=\"df-96589147-3e9f-472b-8e9c-12a40204004c\">\n",
              "  <button class=\"colab-df-quickchart\" onclick=\"quickchart('df-96589147-3e9f-472b-8e9c-12a40204004c')\"\n",
              "            title=\"Suggest charts\"\n",
              "            style=\"display:none;\">\n",
              "\n",
              "<svg xmlns=\"http://www.w3.org/2000/svg\" height=\"24px\"viewBox=\"0 0 24 24\"\n",
              "     width=\"24px\">\n",
              "    <g>\n",
              "        <path d=\"M19 3H5c-1.1 0-2 .9-2 2v14c0 1.1.9 2 2 2h14c1.1 0 2-.9 2-2V5c0-1.1-.9-2-2-2zM9 17H7v-7h2v7zm4 0h-2V7h2v10zm4 0h-2v-4h2v4z\"/>\n",
              "    </g>\n",
              "</svg>\n",
              "  </button>\n",
              "\n",
              "<style>\n",
              "  .colab-df-quickchart {\n",
              "      --bg-color: #E8F0FE;\n",
              "      --fill-color: #1967D2;\n",
              "      --hover-bg-color: #E2EBFA;\n",
              "      --hover-fill-color: #174EA6;\n",
              "      --disabled-fill-color: #AAA;\n",
              "      --disabled-bg-color: #DDD;\n",
              "  }\n",
              "\n",
              "  [theme=dark] .colab-df-quickchart {\n",
              "      --bg-color: #3B4455;\n",
              "      --fill-color: #D2E3FC;\n",
              "      --hover-bg-color: #434B5C;\n",
              "      --hover-fill-color: #FFFFFF;\n",
              "      --disabled-bg-color: #3B4455;\n",
              "      --disabled-fill-color: #666;\n",
              "  }\n",
              "\n",
              "  .colab-df-quickchart {\n",
              "    background-color: var(--bg-color);\n",
              "    border: none;\n",
              "    border-radius: 50%;\n",
              "    cursor: pointer;\n",
              "    display: none;\n",
              "    fill: var(--fill-color);\n",
              "    height: 32px;\n",
              "    padding: 0;\n",
              "    width: 32px;\n",
              "  }\n",
              "\n",
              "  .colab-df-quickchart:hover {\n",
              "    background-color: var(--hover-bg-color);\n",
              "    box-shadow: 0 1px 2px rgba(60, 64, 67, 0.3), 0 1px 3px 1px rgba(60, 64, 67, 0.15);\n",
              "    fill: var(--button-hover-fill-color);\n",
              "  }\n",
              "\n",
              "  .colab-df-quickchart-complete:disabled,\n",
              "  .colab-df-quickchart-complete:disabled:hover {\n",
              "    background-color: var(--disabled-bg-color);\n",
              "    fill: var(--disabled-fill-color);\n",
              "    box-shadow: none;\n",
              "  }\n",
              "\n",
              "  .colab-df-spinner {\n",
              "    border: 2px solid var(--fill-color);\n",
              "    border-color: transparent;\n",
              "    border-bottom-color: var(--fill-color);\n",
              "    animation:\n",
              "      spin 1s steps(1) infinite;\n",
              "  }\n",
              "\n",
              "  @keyframes spin {\n",
              "    0% {\n",
              "      border-color: transparent;\n",
              "      border-bottom-color: var(--fill-color);\n",
              "      border-left-color: var(--fill-color);\n",
              "    }\n",
              "    20% {\n",
              "      border-color: transparent;\n",
              "      border-left-color: var(--fill-color);\n",
              "      border-top-color: var(--fill-color);\n",
              "    }\n",
              "    30% {\n",
              "      border-color: transparent;\n",
              "      border-left-color: var(--fill-color);\n",
              "      border-top-color: var(--fill-color);\n",
              "      border-right-color: var(--fill-color);\n",
              "    }\n",
              "    40% {\n",
              "      border-color: transparent;\n",
              "      border-right-color: var(--fill-color);\n",
              "      border-top-color: var(--fill-color);\n",
              "    }\n",
              "    60% {\n",
              "      border-color: transparent;\n",
              "      border-right-color: var(--fill-color);\n",
              "    }\n",
              "    80% {\n",
              "      border-color: transparent;\n",
              "      border-right-color: var(--fill-color);\n",
              "      border-bottom-color: var(--fill-color);\n",
              "    }\n",
              "    90% {\n",
              "      border-color: transparent;\n",
              "      border-bottom-color: var(--fill-color);\n",
              "    }\n",
              "  }\n",
              "</style>\n",
              "\n",
              "  <script>\n",
              "    async function quickchart(key) {\n",
              "      const quickchartButtonEl =\n",
              "        document.querySelector('#' + key + ' button');\n",
              "      quickchartButtonEl.disabled = true;  // To prevent multiple clicks.\n",
              "      quickchartButtonEl.classList.add('colab-df-spinner');\n",
              "      try {\n",
              "        const charts = await google.colab.kernel.invokeFunction(\n",
              "            'suggestCharts', [key], {});\n",
              "      } catch (error) {\n",
              "        console.error('Error during call to suggestCharts:', error);\n",
              "      }\n",
              "      quickchartButtonEl.classList.remove('colab-df-spinner');\n",
              "      quickchartButtonEl.classList.add('colab-df-quickchart-complete');\n",
              "    }\n",
              "    (() => {\n",
              "      let quickchartButtonEl =\n",
              "        document.querySelector('#df-96589147-3e9f-472b-8e9c-12a40204004c button');\n",
              "      quickchartButtonEl.style.display =\n",
              "        google.colab.kernel.accessAllowed ? 'block' : 'none';\n",
              "    })();\n",
              "  </script>\n",
              "</div>\n",
              "\n",
              "  <div id=\"id_cda3929d-f06d-4bb0-b06c-b7746ba24228\">\n",
              "    <style>\n",
              "      .colab-df-generate {\n",
              "        background-color: #E8F0FE;\n",
              "        border: none;\n",
              "        border-radius: 50%;\n",
              "        cursor: pointer;\n",
              "        display: none;\n",
              "        fill: #1967D2;\n",
              "        height: 32px;\n",
              "        padding: 0 0 0 0;\n",
              "        width: 32px;\n",
              "      }\n",
              "\n",
              "      .colab-df-generate:hover {\n",
              "        background-color: #E2EBFA;\n",
              "        box-shadow: 0px 1px 2px rgba(60, 64, 67, 0.3), 0px 1px 3px 1px rgba(60, 64, 67, 0.15);\n",
              "        fill: #174EA6;\n",
              "      }\n",
              "\n",
              "      [theme=dark] .colab-df-generate {\n",
              "        background-color: #3B4455;\n",
              "        fill: #D2E3FC;\n",
              "      }\n",
              "\n",
              "      [theme=dark] .colab-df-generate:hover {\n",
              "        background-color: #434B5C;\n",
              "        box-shadow: 0px 1px 3px 1px rgba(0, 0, 0, 0.15);\n",
              "        filter: drop-shadow(0px 1px 2px rgba(0, 0, 0, 0.3));\n",
              "        fill: #FFFFFF;\n",
              "      }\n",
              "    </style>\n",
              "    <button class=\"colab-df-generate\" onclick=\"generateWithVariable('df_test')\"\n",
              "            title=\"Generate code using this dataframe.\"\n",
              "            style=\"display:none;\">\n",
              "\n",
              "  <svg xmlns=\"http://www.w3.org/2000/svg\" height=\"24px\"viewBox=\"0 0 24 24\"\n",
              "       width=\"24px\">\n",
              "    <path d=\"M7,19H8.4L18.45,9,17,7.55,7,17.6ZM5,21V16.75L18.45,3.32a2,2,0,0,1,2.83,0l1.4,1.43a1.91,1.91,0,0,1,.58,1.4,1.91,1.91,0,0,1-.58,1.4L9.25,21ZM18.45,9,17,7.55Zm-12,3A5.31,5.31,0,0,0,4.9,8.1,5.31,5.31,0,0,0,1,6.5,5.31,5.31,0,0,0,4.9,4.9,5.31,5.31,0,0,0,6.5,1,5.31,5.31,0,0,0,8.1,4.9,5.31,5.31,0,0,0,12,6.5,5.46,5.46,0,0,0,6.5,12Z\"/>\n",
              "  </svg>\n",
              "    </button>\n",
              "    <script>\n",
              "      (() => {\n",
              "      const buttonEl =\n",
              "        document.querySelector('#id_cda3929d-f06d-4bb0-b06c-b7746ba24228 button.colab-df-generate');\n",
              "      buttonEl.style.display =\n",
              "        google.colab.kernel.accessAllowed ? 'block' : 'none';\n",
              "\n",
              "      buttonEl.onclick = () => {\n",
              "        google.colab.notebook.generateWithVariable('df_test');\n",
              "      }\n",
              "      })();\n",
              "    </script>\n",
              "  </div>\n",
              "\n",
              "    </div>\n",
              "  </div>\n"
            ],
            "application/vnd.google.colaboratory.intrinsic+json": {
              "type": "dataframe",
              "variable_name": "df_test",
              "summary": "{\n  \"name\": \"df_test\",\n  \"rows\": 11343,\n  \"fields\": [\n    {\n      \"column\": \"id\",\n      \"properties\": {\n        \"dtype\": \"number\",\n        \"std\": 23726,\n        \"min\": 327563,\n        \"max\": 407601,\n        \"num_unique_values\": 11343,\n        \"samples\": [\n          401109,\n          396214,\n          398849\n        ],\n        \"semantic_type\": \"\",\n        \"description\": \"\"\n      }\n    },\n    {\n      \"column\": \"title\",\n      \"properties\": {\n        \"dtype\": \"category\",\n        \"num_unique_values\": 248,\n        \"samples\": [\n          \"Xi Jinping prometi\\u00f3 que las vacunas desarrolladas en China contra el coronavirus estar\\u00e1n disponibles como un \\\"bien p\\u00fablico global\\\"\",\n          \"El exabrupto de Dady Brieva por el banderazo: \\\"Unas ganas de agarrar un cami\\u00f3n y jugar al bowling por la 9 de Julio\\\"\",\n          \"Chocobar. \\\"Espero que se haga Justicia\\\", dijo la madre del ladr\\u00f3n muerto\"\n        ],\n        \"semantic_type\": \"\",\n        \"description\": \"\"\n      }\n    },\n    {\n      \"column\": \"text\",\n      \"properties\": {\n        \"dtype\": \"string\",\n        \"num_unique_values\": 11052,\n        \"samples\": [\n          \"@usuario NO ROMPAN LAS PELOTAS. EN EL ORIENTE SON MEDIO PELOTUDOS?\",\n          \"@usuario No puedo m\\u00e1s de leer cosas espantosas de los chinos. Horrible costumbre!!!\",\n          \"@usuario No me queda claro que van a festejar. El mill\\u00f3n de infectados? Los 25000 muertos? El d\\u00f3lar a 180? El salario m\\u00ednimo m\\u00e1s bajo que Hait\\u00ed? La cuarentena m\\u00e1s larga del universo? Las m\\u00e1s de 100mil pymes quebradas? Los 3.7 millones de desempleados del \\u00faltimo trimestre? Alguien entiende\"\n        ],\n        \"semantic_type\": \"\",\n        \"description\": \"\"\n      }\n    },\n    {\n      \"column\": \"context_tweet\",\n      \"properties\": {\n        \"dtype\": \"category\",\n        \"num_unique_values\": 248,\n        \"samples\": [\n          \"Xi Jinping prometi\\u00f3 que las vacunas desarrolladas en China contra el coronavirus estar\\u00e1n disponibles como \\u201cbien p\\u00fablico global\\u201d https://t.co/ZWCZray2Wo\",\n          \"El exabrupto de Dady Brieva por el banderazo: \\\"Unas ganas de agarrar un cami\\u00f3n y jugar al bowling por la 9 de Julio\\\" https://t.co/R9CQ9l2EfI\",\n          \"Chocobar. \\\"Espero que se haga Justicia \\\", dijo la madre del ladr\\u00f3n muerto https://t.co/csvrGOMgSv https://t.co/bIhDAtCjJH\"\n        ],\n        \"semantic_type\": \"\",\n        \"description\": \"\"\n      }\n    },\n    {\n      \"column\": \"HATEFUL\",\n      \"properties\": {\n        \"dtype\": \"number\",\n        \"std\": 0,\n        \"min\": 0,\n        \"max\": 1,\n        \"num_unique_values\": 2,\n        \"samples\": [\n          1,\n          0\n        ],\n        \"semantic_type\": \"\",\n        \"description\": \"\"\n      }\n    },\n    {\n      \"column\": \"body\",\n      \"properties\": {\n        \"dtype\": \"category\",\n        \"num_unique_values\": 248,\n        \"samples\": [\n          \"El mandatario chino, Xi Jinping, anunci\\u00f3 este lunes que las vacunas desarrolladas en China contra el coronavirus estar\\u00e1n disponibles para el resto del mundo como un \\\"bien p\\u00fablico\\\" en caso de tener \\u00e9xito contra la enfermedad.\\n\\nEl presidente, uno de los primeros oradores de la asamblea anual de la Organizaci\\u00f3n Mundial de la Salud (OMS), asegur\\u00f3 que Beijing ha colaborado plenamente con la entidad, en respuesta a las cr\\u00edticas por su manejo del brote y los intentos de acallar las primeras denuncias sobre el virus. Seg\\u00fan sostuvo, China fue \\\"siempre\\\" transparente sobre la evoluci\\u00f3n de la crisis sanitaria y se mostr\\u00f3 dispuesto a una \\\"evaluaci\\u00f3n completa\\\", pero reiter\\u00f3 que ser\\u00eda una vez que la pandemia est\\u00e9 controlada.\\n\\nXi pidi\\u00f3 a los l\\u00edderes del mundo a aumentar el apoyo pol\\u00edtico y financiero a la OMS y un mayor compromiso, en alusi\\u00f3n a los anuncios del presidente estadounidense, Donald Trump, sobre la suspensi\\u00f3n de fondos que Washington aporta.\\n\\n\\\"Tarde o temprano la humanidad vencer\\u00e1 al coronavirus\\\", alent\\u00f3 Xi, pero advirti\\u00f3 que es probable que no sea la \\u00faltima emergencia de salud, por lo que remarc\\u00f3 la importancia de reforzar la gobernanza global en el \\u00e1mbito de la salud p\\u00fablica. \\\"La solidaridad y cooperaci\\u00f3n son las armas m\\u00e1s poderosas para vencer al virus\\\", insisti\\u00f3.\\n\\nEl mandatario tambi\\u00e9n prometi\\u00f3 una asistencia valuada en 2.000 millones de d\\u00f3lares para los pa\\u00edses m\\u00e1s afectados en los pr\\u00f3ximos dos a\\u00f1os, en especial a aquellos en v\\u00edas de desarrollo, y dijo que China instalar\\u00e1 un dep\\u00f3sito y hub de respuesta global, para garantizar la cadena de abastecimiento de los insumos de primera necesidad, con \\\"corredores verdes\\\" para facilitar su distribuci\\u00f3n. Adem\\u00e1s, dijo que trabajar\\u00e1 con los pa\\u00edses del G-20 para implementar una iniciativa de suspensi\\u00f3n de deudas a los pa\\u00edses m\\u00e1s pobres.\\n\\nEn la asamblea, realizada por teleconferencia, tambi\\u00e9n particip\\u00f3 el secretario general de la ONU, Antonio Guterres. \\\"La OMS es irreemplazable y necesita m\\u00e1s recursos. Los pa\\u00edses del Norte no podr\\u00e1n acabar con el covid-19 si los pa\\u00edses del Sur no logran controlarla\\\", advirti\\u00f3.\\n\\nPor su parte, Emmanuel Macron y Moon Jae-in, mandatarios de Francia y Corea del Sur, respectivamente, solicitaron que las vacunas y los tratamientos sean distribuidos libremente. D\\u00edas atr\\u00e1s, el gobierno franc\\u00e9s critic\\u00f3 el anuncio del gigante farmac\\u00e9utico franc\\u00e9s Sanofi de que dar\\u00e1 prioridad a Estados Unidos en caso de hallar una vacuna contra la covid-19.\\n\\nCon m\\u00e1s de 7.000 empleados presentes en 150 pa\\u00edses, la OMS es una de las principales agencias de Naciones Unidas. Lleva a cabo numerosas campa\\u00f1as de salud p\\u00fablica -maternidad, higiene, vacunaci\\u00f3n, formaci\\u00f3n, acceso al agua, prevenci\\u00f3n de enfermedades-, promueve el desarrollo de los sistemas de salud y una cobertura sanitaria universal, interviene sobre el terreno, asesora a los Estados en sus pol\\u00edticas sanitarias y coordina la respuesta en caso de epidemias.\\n\\nLa OMS est\\u00e1 financiada por sus Estados miembros, que contribuyen en funci\\u00f3n de su riqueza, adem\\u00e1s de con aportes voluntarios, pero tambi\\u00e9n, cada vez m\\u00e1s, por donaciones de particulares y fundaciones privadas. La OMS busca financiaci\\u00f3n sin cesar. Su presupuesto, bianual, fue de 5.620 millones de d\\u00f3lares (5.100 millones de euros) para 2018 y 2019, es decir, el equivalente del 2,5% de los gastos anuales de salud de Francia. El presidente estadounidense, Donald Trump, que acusa a la OMS de actuar a expensas de China, anunci\\u00f3 a mediados de abril que suspend\\u00eda la financiaci\\u00f3n de Estados Unidos, principal donante de la agencia, por delante de la Fundaci\\u00f3n Bill & Melinda Gates, con m\\u00e1s de 500 millones de d\\u00f3lares.\\n\\n(Con informaci\\u00f3n de AFP)\\n\\nM\\u00c1S SOBRE ESTE TEMA:\\n\\nLa OMS inaugura su asamblea anual en medio de las cr\\u00edticas por su manejo en la pandemia de coronavirus\\n\\n\\\\n\",\n          \"Acostumbrado a lanzar iron\\u00edas contra el macrismo y todo el arco opositor en general, el humorista y actor Dady Brieva tuvo un grosero exabrupto en momentos en que se desarrollaba el banderazo del 12-O contra el Gobierno.\\n\\nMientras la gente comenzaba a copar las cuadras lindantes al Obelisco y los principales centros comerciales de todo el pa\\u00eds, cerca de las 17 del lunes, el actor asegur\\u00f3 que \\\"dan ganas de agarrar un cami\\u00f3n y jugar al bowling por la 9 de Julio, no te das una idea\\\".\\n\\nCon ese repudiable mensaje, que tuvo r\\u00e1pida repercusi\\u00f3n en las redes, Brieva abri\\u00f3 su programa \\\"Volver Mejores\\\" que se emite por El Destape Radio. \\\"Una Argentina que deber\\u00eda estar unida y no est\\u00e1 unida, y si no est\\u00e1 unida no es por culpa nuestra\\\", sigui\\u00f3 Brieva, ante las risas de sus compa\\u00f1eros.\\n\\nAunque impost\\u00f3 la voz en tono humor\\u00edstico, el actor devenido conductor habl\\u00f3 de una \\\"guerra\\\" y de una \\\"olla a presi\\u00f3n\\\" para referirse a las diferencias entre oficialistas y opositores.\\n\\nUna multitud cop\\u00f3 el Obelisco y las principales ciudades del pa\\u00eds contra el Gobierno. Foto: Rafael Mario Quinteros\\n\\n\\\"Hay que legalizar y darle una amnist\\u00eda a este estado de \\u00e1nimo que es de una guerra\\\", sugiri\\u00f3. \\\"Estamos en esa pelea. A nosotros nos tienen amordazados y en casa. Es una olla a presi\\u00f3n que no puede llegar a terminar bien\\\", agreg\\u00f3.\\n\\nEn las calles, miles de personas salieron con banderas argentinas para protestar contra la estrategia del Gobierno para frenar el coronavirus, la crisis econ\\u00f3mica y los ataques a la Justicia, entre otras consignas.\\n\\nMientras los autos llegaban a las movilizaciones a puro bocinazo, el humorista se pregunt\\u00f3 con tono desafiante: \\\"\\u00bfHasta cu\\u00e1ndo vamos a aguantar? \\u00bfCu\\u00e1l va a ser el l\\u00edmite? Me parece que estamos soportando mucho por esto de querer el bien. Estamos aguantando mucho los cascotazos. Nos cascotean y nos cascotean\\\".\\n\\nEn este escenario, el integrante de Midachi realiz\\u00f3 un an\\u00e1lisis de la actualidad con una violenta met\\u00e1fora: \\\"Me parece que nosotros fallamos cuando estamos apuntando y enfrente vemos a un tipo que podr\\u00eda tener una madre y (pens\\u00e1s) que la vas a dejar sin hijo porque el domingo es el D\\u00eda de la Madre, y ah\\u00ed nos pone un tiro en la cabeza\\\", concluy\\u00f3.\\n\\n\\n\\nJPE\"\n        ],\n        \"semantic_type\": \"\",\n        \"description\": \"\"\n      }\n    },\n    {\n      \"column\": \"CALLS\",\n      \"properties\": {\n        \"dtype\": \"number\",\n        \"std\": 0,\n        \"min\": 0,\n        \"max\": 1,\n        \"num_unique_values\": 2,\n        \"samples\": [\n          1,\n          0\n        ],\n        \"semantic_type\": \"\",\n        \"description\": \"\"\n      }\n    },\n    {\n      \"column\": \"WOMEN\",\n      \"properties\": {\n        \"dtype\": \"number\",\n        \"std\": 0,\n        \"min\": 0,\n        \"max\": 1,\n        \"num_unique_values\": 2,\n        \"samples\": [\n          1,\n          0\n        ],\n        \"semantic_type\": \"\",\n        \"description\": \"\"\n      }\n    },\n    {\n      \"column\": \"LGBTI\",\n      \"properties\": {\n        \"dtype\": \"number\",\n        \"std\": 0,\n        \"min\": 0,\n        \"max\": 1,\n        \"num_unique_values\": 2,\n        \"samples\": [\n          1,\n          0\n        ],\n        \"semantic_type\": \"\",\n        \"description\": \"\"\n      }\n    },\n    {\n      \"column\": \"RACISM\",\n      \"properties\": {\n        \"dtype\": \"number\",\n        \"std\": 0,\n        \"min\": 0,\n        \"max\": 1,\n        \"num_unique_values\": 2,\n        \"samples\": [\n          1,\n          0\n        ],\n        \"semantic_type\": \"\",\n        \"description\": \"\"\n      }\n    },\n    {\n      \"column\": \"CLASS\",\n      \"properties\": {\n        \"dtype\": \"number\",\n        \"std\": 0,\n        \"min\": 0,\n        \"max\": 1,\n        \"num_unique_values\": 2,\n        \"samples\": [\n          1,\n          0\n        ],\n        \"semantic_type\": \"\",\n        \"description\": \"\"\n      }\n    },\n    {\n      \"column\": \"POLITICS\",\n      \"properties\": {\n        \"dtype\": \"number\",\n        \"std\": 0,\n        \"min\": 0,\n        \"max\": 1,\n        \"num_unique_values\": 2,\n        \"samples\": [\n          1,\n          0\n        ],\n        \"semantic_type\": \"\",\n        \"description\": \"\"\n      }\n    },\n    {\n      \"column\": \"DISABLED\",\n      \"properties\": {\n        \"dtype\": \"number\",\n        \"std\": 0,\n        \"min\": 0,\n        \"max\": 1,\n        \"num_unique_values\": 2,\n        \"samples\": [\n          1,\n          0\n        ],\n        \"semantic_type\": \"\",\n        \"description\": \"\"\n      }\n    },\n    {\n      \"column\": \"APPEARANCE\",\n      \"properties\": {\n        \"dtype\": \"number\",\n        \"std\": 0,\n        \"min\": 0,\n        \"max\": 1,\n        \"num_unique_values\": 2,\n        \"samples\": [\n          1,\n          0\n        ],\n        \"semantic_type\": \"\",\n        \"description\": \"\"\n      }\n    },\n    {\n      \"column\": \"CRIMINAL\",\n      \"properties\": {\n        \"dtype\": \"number\",\n        \"std\": 0,\n        \"min\": 0,\n        \"max\": 1,\n        \"num_unique_values\": 2,\n        \"samples\": [\n          1,\n          0\n        ],\n        \"semantic_type\": \"\",\n        \"description\": \"\"\n      }\n    }\n  ]\n}"
            }
          },
          "metadata": {},
          "execution_count": 82
        }
      ]
    },
    {
      "cell_type": "markdown",
      "source": [
        "Documentacion para el trabajo en batch:\n",
        "https://platform.openai.com/docs/guides/batch/getting-started\n",
        "\n",
        "\n",
        "Se prepara el formato completo del archivo para batch con el siguiente formato:\n",
        "\n",
        "{\"custom_id\": \"request-1\", \"method\": \"POST\", \"url\": \"/v1/chat/completions\", \"body\": {\"model\": \"gpt-3.5-turbo-0125\", \"messages\": [{\"role\": \"system\", \"content\": \"You are a helpful assistant.\"},{\"role\": \"user\", \"content\": \"Hello world!\"}],\"max_tokens\": 1000}}\n",
        "\n",
        "\n",
        "Al rol System se le envía la siguiente consigna:\n",
        "\n",
        "You must classify a text with one or more of the following labels: Label WOMEN discrimination against women, label LGBTI gender discrimination, specifically against gays, lesbians or transsexuals,label RACISM is racism, or discrimination against people according to their skin color,label\n",
        "CLASS is discrimination for being poor or living in a marginal or poor place, label POLITICS is hatred of politicians, label DISABLED is discrimination against people with disabilities, label APPEARENCE is discrimination against people because of their physical appearance, specifically fatphobia, label CRIMINAL is discrimination against people because of a criminal record or links to criminality and label CALLS is hateful text that incites violence\n",
        "If the text is not hatefull indicate label NOT HATEFUL"
      ],
      "metadata": {
        "id": "R2sSgpYt8J4B"
      }
    },
    {
      "cell_type": "code",
      "source": [
        "def create_batch_multiple(df):\n",
        "  # Specify the columns\n",
        "  id_column = 'id'\n",
        "  text_column = 'text'\n",
        "\n",
        "  # Convert the dataframe into a list of dictionaries with custom_id and messages\n",
        "  batch = [\n",
        "      {\n",
        "          'custom_id': str(row[id_column]),\n",
        "          'method': 'POST',\n",
        "          'url': '/v1/chat/completions',\n",
        "          'body':{\n",
        "              'model': 'gpt-4o-mini',\n",
        "              'messages': [\n",
        "                  {'role': 'system', 'content': 'You are trained to analyze and detect the sentiment of the given text.You must classify a text with one or more of the following labels: WOMEN when there is discrimination against women, LGBTI when there is discrimination against gays, lesbians or transsexuals, RACISM when there is discrimination against people according to their skin color, CLASS  when there is discrimination for being poor or living in a marginal or poor place, POLITICS is hatred of politicians, DISABLED when there is discrimination against people with disabilities, APPEARENCE when there is discrimination against people because of their physical appearance, specifically fatphobia, CRIMINAL when there is discrimination against people because of a criminal record or links to criminality and  CALLS is hateful text that incites violence. If the text is not hateful indicate NOT HATEFUL'},\n",
        "                  {'role': 'user', 'content': row[text_column]}\n",
        "                  ],\n",
        "              'max_tokens': 20,  # Limit response to a single word\n",
        "              'temperature': 0  # Keep response consistent\n",
        "          }\n",
        "      }\n",
        "      for _, row in df.iterrows()\n",
        "  ]\n",
        "  return(batch)"
      ],
      "metadata": {
        "id": "pc9DCeNioln-"
      },
      "execution_count": null,
      "outputs": []
    },
    {
      "cell_type": "markdown",
      "source": [
        "Como no puedo hacer un solo batch porque se excede el limite voy a probar con trabajos de mitad"
      ],
      "metadata": {
        "id": "mqRsd7ZUoxaL"
      }
    },
    {
      "cell_type": "code",
      "source": [
        "size_df=len(df_test)\n",
        "size_df=int(size/2)\n",
        "size_df"
      ],
      "metadata": {
        "colab": {
          "base_uri": "https://localhost:8080/"
        },
        "id": "Sa_WuVFKosrL",
        "outputId": "52df7813-6802-4fd6-afaf-42a69936bb66"
      },
      "execution_count": null,
      "outputs": [
        {
          "output_type": "execute_result",
          "data": {
            "text/plain": [
              "2836"
            ]
          },
          "metadata": {},
          "execution_count": 84
        }
      ]
    },
    {
      "cell_type": "code",
      "source": [
        "import numpy as np\n",
        "def split_df(df):\n",
        "  if len(df) % 2 != 0:  # Handling `df` with `odd` number of rows\n",
        "    df = df.iloc[:-1, :]\n",
        "    df1, df2 =  np.array_split(df, 2)\n",
        "    return df1, df2"
      ],
      "metadata": {
        "id": "fiD1ucxlOjO3"
      },
      "execution_count": 118,
      "outputs": []
    },
    {
      "cell_type": "code",
      "source": [
        "df1, df2 = split_df(df_test)"
      ],
      "metadata": {
        "id": "GRLFWZvRpJQp"
      },
      "execution_count": 119,
      "outputs": []
    },
    {
      "cell_type": "code",
      "source": [
        "len(df1)"
      ],
      "metadata": {
        "id": "wImZq4aVrITV",
        "outputId": "55e98e45-fb80-498f-d7ee-8c2ec712bfbe",
        "colab": {
          "base_uri": "https://localhost:8080/"
        }
      },
      "execution_count": 122,
      "outputs": [
        {
          "output_type": "execute_result",
          "data": {
            "text/plain": [
              "5671"
            ]
          },
          "metadata": {},
          "execution_count": 122
        }
      ]
    },
    {
      "cell_type": "code",
      "source": [
        "batch1=create_batch_multiple(df1)\n",
        "batch1[0]"
      ],
      "metadata": {
        "colab": {
          "base_uri": "https://localhost:8080/"
        },
        "id": "fV3hp0mvqIWO",
        "outputId": "20764333-5ad9-46da-e645-96054e7b1bf2"
      },
      "execution_count": 124,
      "outputs": [
        {
          "output_type": "execute_result",
          "data": {
            "text/plain": [
              "{'custom_id': '397703',\n",
              " 'method': 'POST',\n",
              " 'url': '/v1/chat/completions',\n",
              " 'body': {'model': 'gpt-4o-mini',\n",
              "  'messages': [{'role': 'system',\n",
              "    'content': 'You are trained to analyze and detect the sentiment of the given text.You must classify a text with one or more of the following labels: WOMEN when there is discrimination against women, LGBTI when there is discrimination against gays, lesbians or transsexuals, RACISM when there is discrimination against people according to their skin color, CLASS  when there is discrimination for being poor or living in a marginal or poor place, POLITICS is hatred of politicians, DISABLED when there is discrimination against people with disabilities, APPEARENCE when there is discrimination against people because of their physical appearance, specifically fatphobia, CRIMINAL when there is discrimination against people because of a criminal record or links to criminality and  CALLS is hateful text that incites violence. If the text is not hateful indicate NOT HATEFUL'},\n",
              "   {'role': 'user', 'content': '@usuario Ojalá se funda y cague de hambre'}],\n",
              "  'max_tokens': 20,\n",
              "  'temperature': 0}}"
            ]
          },
          "metadata": {},
          "execution_count": 124
        }
      ]
    },
    {
      "cell_type": "code",
      "source": [
        "len(batch1)"
      ],
      "metadata": {
        "id": "fUugi-KOO9-n",
        "outputId": "52065cb1-8626-4439-b81b-ed9b79bebdbb",
        "colab": {
          "base_uri": "https://localhost:8080/"
        }
      },
      "execution_count": 125,
      "outputs": [
        {
          "output_type": "execute_result",
          "data": {
            "text/plain": [
              "5671"
            ]
          },
          "metadata": {},
          "execution_count": 125
        }
      ]
    },
    {
      "cell_type": "code",
      "source": [
        "batch2=create_batch_multiple(df2)\n",
        "batch2[0]"
      ],
      "metadata": {
        "colab": {
          "base_uri": "https://localhost:8080/"
        },
        "id": "v2GP1Dd09E5F",
        "outputId": "fcd3e943-f8df-44d6-8e77-497c5c8f257a"
      },
      "execution_count": 126,
      "outputs": [
        {
          "output_type": "execute_result",
          "data": {
            "text/plain": [
              "{'custom_id': '398942',\n",
              " 'method': 'POST',\n",
              " 'url': '/v1/chat/completions',\n",
              " 'body': {'model': 'gpt-4o-mini',\n",
              "  'messages': [{'role': 'system',\n",
              "    'content': 'You are trained to analyze and detect the sentiment of the given text.You must classify a text with one or more of the following labels: WOMEN when there is discrimination against women, LGBTI when there is discrimination against gays, lesbians or transsexuals, RACISM when there is discrimination against people according to their skin color, CLASS  when there is discrimination for being poor or living in a marginal or poor place, POLITICS is hatred of politicians, DISABLED when there is discrimination against people with disabilities, APPEARENCE when there is discrimination against people because of their physical appearance, specifically fatphobia, CRIMINAL when there is discrimination against people because of a criminal record or links to criminality and  CALLS is hateful text that incites violence. If the text is not hateful indicate NOT HATEFUL'},\n",
              "   {'role': 'user', 'content': '@usuario Felicitaciones por tu lucha!!'}],\n",
              "  'max_tokens': 20,\n",
              "  'temperature': 0}}"
            ]
          },
          "metadata": {},
          "execution_count": 126
        }
      ]
    },
    {
      "cell_type": "code",
      "source": [
        "len(batch2)"
      ],
      "metadata": {
        "id": "xccHY6TkN8vK",
        "outputId": "ab766480-36b1-4af9-a355-4c74e4886d81",
        "colab": {
          "base_uri": "https://localhost:8080/"
        }
      },
      "execution_count": 127,
      "outputs": [
        {
          "output_type": "execute_result",
          "data": {
            "text/plain": [
              "5671"
            ]
          },
          "metadata": {},
          "execution_count": 127
        }
      ]
    },
    {
      "cell_type": "markdown",
      "source": [
        "Creo un batch separado por cada uno porque no soporta archivos tan grandes"
      ],
      "metadata": {
        "id": "jfI01QqIPFTi"
      }
    },
    {
      "cell_type": "code",
      "source": [
        "# Save the batch to a .jsonl file\n",
        "with open('batch_gpt_multiclass_1.jsonl', 'w') as f:\n",
        "    for entry in batch1:\n",
        "        json.dump(entry, f)\n",
        "        f.write('\\n')\n",
        "\n",
        "print(\"Batch file created successfully in .jsonl format!\")"
      ],
      "metadata": {
        "colab": {
          "base_uri": "https://localhost:8080/"
        },
        "id": "cJaM_FUjmiJA",
        "outputId": "058f0ce6-c590-4efa-8f64-f549d66f2454"
      },
      "execution_count": 128,
      "outputs": [
        {
          "output_type": "stream",
          "name": "stdout",
          "text": [
            "Batch file created successfully in .jsonl format!\n"
          ]
        }
      ]
    },
    {
      "cell_type": "code",
      "source": [
        "batch_input_file = client.files.create(\n",
        "  file=open(\"batch_gpt_multiclass_1.jsonl\", \"rb\"),\n",
        "  purpose=\"batch\"\n",
        ")"
      ],
      "metadata": {
        "id": "dgf6hnCjniD2"
      },
      "execution_count": 129,
      "outputs": []
    },
    {
      "cell_type": "code",
      "source": [
        "batch_input_file"
      ],
      "metadata": {
        "colab": {
          "base_uri": "https://localhost:8080/"
        },
        "id": "v3EtUSijoBFq",
        "outputId": "9ee0c798-ba83-4ab4-e297-1e57345e67e8"
      },
      "execution_count": 130,
      "outputs": [
        {
          "output_type": "execute_result",
          "data": {
            "text/plain": [
              "FileObject(id='file-e91dR30ggfN2v3L7E32F3aGl', bytes=6696011, created_at=1721950345, filename='batch_gpt_multiclass_1.jsonl', object='file', purpose='batch', status='processed', status_details=None)"
            ]
          },
          "metadata": {},
          "execution_count": 130
        }
      ]
    },
    {
      "cell_type": "code",
      "source": [
        "batch_input_file_id = 'file-e91dR30ggfN2v3L7E32F3aGl'\n",
        "\n",
        "client.batches.create(\n",
        "    input_file_id=batch_input_file_id,\n",
        "    endpoint=\"/v1/chat/completions\",\n",
        "    completion_window=\"24h\",\n",
        "    metadata={\n",
        "      \"description\": \"nightly eval job\"\n",
        "    }\n",
        ")"
      ],
      "metadata": {
        "colab": {
          "base_uri": "https://localhost:8080/"
        },
        "id": "6XBUCULjn8ga",
        "outputId": "03050332-4bfd-4793-bdf4-b70c2f5203bc"
      },
      "execution_count": 131,
      "outputs": [
        {
          "output_type": "execute_result",
          "data": {
            "text/plain": [
              "Batch(id='batch_lbqgkIXz96h4G82byrWsKiLf', completion_window='24h', created_at=1721950358, endpoint='/v1/chat/completions', input_file_id='file-e91dR30ggfN2v3L7E32F3aGl', object='batch', status='validating', cancelled_at=None, cancelling_at=None, completed_at=None, error_file_id=None, errors=None, expired_at=None, expires_at=1722036758, failed_at=None, finalizing_at=None, in_progress_at=None, metadata={'description': 'nightly eval job'}, output_file_id=None, request_counts=BatchRequestCounts(completed=0, failed=0, total=0))"
            ]
          },
          "metadata": {},
          "execution_count": 131
        }
      ]
    },
    {
      "cell_type": "code",
      "source": [
        "client.batches.retrieve('batch_lbqgkIXz96h4G82byrWsKiLf')"
      ],
      "metadata": {
        "colab": {
          "base_uri": "https://localhost:8080/"
        },
        "id": "rCa5dG6DxK3C",
        "outputId": "81bad742-745a-4c7b-f09b-553b1734a999"
      },
      "execution_count": 132,
      "outputs": [
        {
          "output_type": "execute_result",
          "data": {
            "text/plain": [
              "Batch(id='batch_lbqgkIXz96h4G82byrWsKiLf', completion_window='24h', created_at=1721950358, endpoint='/v1/chat/completions', input_file_id='file-e91dR30ggfN2v3L7E32F3aGl', object='batch', status='in_progress', cancelled_at=None, cancelling_at=None, completed_at=None, error_file_id=None, errors=None, expired_at=None, expires_at=1722036758, failed_at=None, finalizing_at=None, in_progress_at=1721950361, metadata={'description': 'nightly eval job'}, output_file_id=None, request_counts=BatchRequestCounts(completed=0, failed=0, total=5671))"
            ]
          },
          "metadata": {},
          "execution_count": 132
        }
      ]
    },
    {
      "cell_type": "code",
      "source": [
        "batch_NQ9RgzBbLyqfmLOnoBYq0OPG"
      ],
      "metadata": {
        "id": "X3oS6bC2-EMz"
      },
      "execution_count": null,
      "outputs": []
    },
    {
      "cell_type": "markdown",
      "source": [
        "Ahora creo el segundo batch"
      ],
      "metadata": {
        "id": "M3IhhptyE5bw"
      }
    },
    {
      "cell_type": "code",
      "source": [
        "with open('batch_gpt_multiclass_2.jsonl', 'w') as f:\n",
        "    for entry in batch2:\n",
        "        json.dump(entry, f)\n",
        "        f.write('\\n')\n",
        "\n",
        "print(\"Batch file created successfully in .jsonl format!\")"
      ],
      "metadata": {
        "colab": {
          "base_uri": "https://localhost:8080/"
        },
        "id": "H-_G0wsJE5K2",
        "outputId": "8f27d46f-3f35-4b48-bb98-0c1099cbbe45"
      },
      "execution_count": 133,
      "outputs": [
        {
          "output_type": "stream",
          "name": "stdout",
          "text": [
            "Batch file created successfully in .jsonl format!\n"
          ]
        }
      ]
    },
    {
      "cell_type": "code",
      "source": [
        "batch_input_file = client.files.create(\n",
        "  file=open(\"batch_gpt_multiclass_2.jsonl\", \"rb\"),\n",
        "  purpose=\"batch\"\n",
        ")\n",
        "batch_input_file"
      ],
      "metadata": {
        "colab": {
          "base_uri": "https://localhost:8080/"
        },
        "id": "PZiefC2wFD7f",
        "outputId": "339a55f6-5804-463a-d41f-9fca67b7c563"
      },
      "execution_count": 134,
      "outputs": [
        {
          "output_type": "execute_result",
          "data": {
            "text/plain": [
              "FileObject(id='file-0HJYdfaKzj7JkfW7PxmAyf7M', bytes=6682141, created_at=1721951551, filename='batch_gpt_multiclass_2.jsonl', object='file', purpose='batch', status='processed', status_details=None)"
            ]
          },
          "metadata": {},
          "execution_count": 134
        }
      ]
    },
    {
      "cell_type": "code",
      "source": [
        "batch_input_file_id = 'file-0HJYdfaKzj7JkfW7PxmAyf7M'\n",
        "\n",
        "client.batches.create(\n",
        "    input_file_id=batch_input_file_id,\n",
        "    endpoint=\"/v1/chat/completions\",\n",
        "    completion_window=\"24h\",\n",
        "    metadata={\n",
        "      \"description\": \"nightly eval job\"\n",
        "    }\n",
        ")"
      ],
      "metadata": {
        "colab": {
          "base_uri": "https://localhost:8080/"
        },
        "id": "g5Kl15XBFGuj",
        "outputId": "cb283e73-4183-46b1-b85d-23f116c3b7ee"
      },
      "execution_count": 135,
      "outputs": [
        {
          "output_type": "execute_result",
          "data": {
            "text/plain": [
              "Batch(id='batch_whoRan66MYdbw5OhNxJqFHhu', completion_window='24h', created_at=1721951567, endpoint='/v1/chat/completions', input_file_id='file-0HJYdfaKzj7JkfW7PxmAyf7M', object='batch', status='validating', cancelled_at=None, cancelling_at=None, completed_at=None, error_file_id=None, errors=None, expired_at=None, expires_at=1722037967, failed_at=None, finalizing_at=None, in_progress_at=None, metadata={'description': 'nightly eval job'}, output_file_id=None, request_counts=BatchRequestCounts(completed=0, failed=0, total=0))"
            ]
          },
          "metadata": {},
          "execution_count": 135
        }
      ]
    },
    {
      "cell_type": "code",
      "source": [
        "client.batches.retrieve('batch_whoRan66MYdbw5OhNxJqFHhu')"
      ],
      "metadata": {
        "colab": {
          "base_uri": "https://localhost:8080/"
        },
        "id": "TMPv-vOEFIY-",
        "outputId": "df0bd013-c5ac-4ba8-cdcc-3d092da083c8"
      },
      "execution_count": 136,
      "outputs": [
        {
          "output_type": "execute_result",
          "data": {
            "text/plain": [
              "Batch(id='batch_whoRan66MYdbw5OhNxJqFHhu', completion_window='24h', created_at=1721951567, endpoint='/v1/chat/completions', input_file_id='file-0HJYdfaKzj7JkfW7PxmAyf7M', object='batch', status='in_progress', cancelled_at=None, cancelling_at=None, completed_at=None, error_file_id=None, errors=None, expired_at=None, expires_at=1722037967, failed_at=None, finalizing_at=None, in_progress_at=1721951570, metadata={'description': 'nightly eval job'}, output_file_id=None, request_counts=BatchRequestCounts(completed=278, failed=0, total=5671))"
            ]
          },
          "metadata": {},
          "execution_count": 136
        }
      ]
    }
  ],
  "metadata": {
    "colab": {
      "provenance": [],
      "gpuType": "T4",
      "include_colab_link": true
    },
    "kernelspec": {
      "display_name": "Python 3",
      "name": "python3"
    },
    "language_info": {
      "codemirror_mode": {
        "name": "ipython",
        "version": 3
      },
      "file_extension": ".py",
      "mimetype": "text/x-python",
      "name": "python",
      "nbconvert_exporter": "python",
      "pygments_lexer": "ipython3",
      "version": "3.11.3"
    }
  },
  "nbformat": 4,
  "nbformat_minor": 0
}