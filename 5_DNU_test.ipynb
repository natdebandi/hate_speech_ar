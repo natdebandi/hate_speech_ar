{
  "cells": [
    {
      "cell_type": "markdown",
      "metadata": {
        "id": "view-in-github",
        "colab_type": "text"
      },
      "source": [
        "<a href=\"https://colab.research.google.com/github/natdebandi/hate_speech_ar/blob/main/5_DNU_test.ipynb\" target=\"_parent\"><img src=\"https://colab.research.google.com/assets/colab-badge.svg\" alt=\"Open In Colab\"/></a>"
      ]
    },
    {
      "cell_type": "markdown",
      "metadata": {
        "id": "nmairhTcgdrz"
      },
      "source": [
        "# Aplicación del GPT para reconocimiento de discrusos xenofobos o de odio hacia migrantes.\n",
        "\n",
        "\n",
        "\n",
        "\n",
        "\n"
      ]
    },
    {
      "cell_type": "markdown",
      "source": [
        "La documentación de la API se encuentra aqui:\n",
        "\n",
        "https://platform.openai.com/docs/api-reference/introduction\n",
        "\n"
      ],
      "metadata": {
        "id": "SK58lmcuEE09"
      }
    },
    {
      "cell_type": "code",
      "source": [
        "# prompt: open file from drive here: G:\\My Drive\\2. Data-work\\bases\\TW DNU\n",
        "\n",
        "from google.colab import drive\n",
        "drive.mount('/content/drive')\n",
        "\n",
        "file_path = '/content/drive/My Drive/2. Data-work/bases/TW DNU'\n",
        "\n"
      ],
      "metadata": {
        "colab": {
          "base_uri": "https://localhost:8080/"
        },
        "id": "xxlBKhRG0vif",
        "outputId": "8600614a-75bb-45f7-8e29-b41bfda95a98"
      },
      "execution_count": null,
      "outputs": [
        {
          "output_type": "stream",
          "name": "stdout",
          "text": [
            "Mounted at /content/drive\n"
          ]
        }
      ]
    },
    {
      "cell_type": "code",
      "source": [
        "# prompt: transform a text line in json format\n",
        "\n",
        "import json\n",
        "\n",
        "with open('/content/drive/My Drive/2. Data-work/bases/TW DNU/DNU 05-03-2021 09 03 .json', 'r') as f:\n",
        "  first_line = f.readline()\n",
        "\n",
        "try:\n",
        "  json_data = json.loads(first_line)\n",
        "  print(json_data)\n",
        "except json.JSONDecodeError as e:\n",
        "  print(f\"Error decoding JSON: {e}\")"
      ],
      "metadata": {
        "colab": {
          "base_uri": "https://localhost:8080/"
        },
        "id": "ry2CaRjd9Kf-",
        "outputId": "df4aed8d-67f4-4d50-8d50-4282375af7ad"
      },
      "execution_count": null,
      "outputs": [
        {
          "output_type": "stream",
          "name": "stdout",
          "text": [
            "{'created_at': 'Fri Mar 05 12:03:23 +0000 2021', 'id': 1367807955677089793, 'id_str': '1367807955677089793', 'text': 'Que buena forma de empezar el día la concha de tu madre', 'source': '<a href=\"http://twitter.com/download/android\" rel=\"nofollow\">Twitter for Android</a>', 'truncated': False, 'in_reply_to_status_id': None, 'in_reply_to_status_id_str': None, 'in_reply_to_user_id': None, 'in_reply_to_user_id_str': None, 'in_reply_to_screen_name': None, 'user': {'id': 1340418127755132929, 'id_str': '1340418127755132929', 'name': 'Matib', 'screen_name': 'Maattib2', 'location': 'Right Wing', 'url': None, 'description': 'cuenta nueva pa', 'translator_type': 'none', 'protected': False, 'verified': False, 'followers_count': 70, 'friends_count': 319, 'listed_count': 0, 'favourites_count': 4144, 'statuses_count': 1597, 'created_at': 'Sat Dec 19 22:06:08 +0000 2020', 'utc_offset': None, 'time_zone': None, 'geo_enabled': False, 'lang': None, 'contributors_enabled': False, 'is_translator': False, 'profile_background_color': 'F5F8FA', 'profile_background_image_url': '', 'profile_background_image_url_https': '', 'profile_background_tile': False, 'profile_link_color': '1DA1F2', 'profile_sidebar_border_color': 'C0DEED', 'profile_sidebar_fill_color': 'DDEEF6', 'profile_text_color': '333333', 'profile_use_background_image': True, 'profile_image_url': 'http://pbs.twimg.com/profile_images/1352506779637321728/3UTtV_Ao_normal.jpg', 'profile_image_url_https': 'https://pbs.twimg.com/profile_images/1352506779637321728/3UTtV_Ao_normal.jpg', 'profile_banner_url': 'https://pbs.twimg.com/profile_banners/1340418127755132929/1608499435', 'default_profile': True, 'default_profile_image': False, 'following': None, 'follow_request_sent': None, 'notifications': None}, 'geo': None, 'coordinates': None, 'place': None, 'contributors': None, 'quoted_status_id': 1367769303295131649, 'quoted_status_id_str': '1367769303295131649', 'quoted_status': {'created_at': 'Fri Mar 05 09:29:48 +0000 2021', 'id': 1367769303295131649, 'id_str': '1367769303295131649', 'text': 'El Gobierno derogó el decreto que permitía la extradición rápida de delincuentes extranjeros y negaba la entrada al… https://t.co/pOdewFH4xv', 'source': '<a href=\"https://www.echobox.com\" rel=\"nofollow\">Echobox</a>', 'truncated': True, 'in_reply_to_status_id': None, 'in_reply_to_status_id_str': None, 'in_reply_to_user_id': None, 'in_reply_to_user_id_str': None, 'in_reply_to_screen_name': None, 'user': {'id': 69416519, 'id_str': '69416519', 'name': 'infobae', 'screen_name': 'infobae', 'location': None, 'url': 'http://infobae.com', 'description': 'Hacemos periodismo, lo hacemos con pasión. @infobaeamerica 🌎 @infobaedeportes ⚽ @teleshowcom 🎥 @infobaeeconomia 🏦 @infobaetrends 📸 @infobaemexico 🇲🇽', 'translator_type': 'none', 'protected': False, 'verified': True, 'followers_count': 2913533, 'friends_count': 0, 'listed_count': 8819, 'favourites_count': 896, 'statuses_count': 705469, 'created_at': 'Thu Aug 27 21:57:01 +0000 2009', 'utc_offset': None, 'time_zone': None, 'geo_enabled': True, 'lang': None, 'contributors_enabled': False, 'is_translator': False, 'profile_background_color': '131516', 'profile_background_image_url': 'http://abs.twimg.com/images/themes/theme14/bg.gif', 'profile_background_image_url_https': 'https://abs.twimg.com/images/themes/theme14/bg.gif', 'profile_background_tile': False, 'profile_link_color': 'F28209', 'profile_sidebar_border_color': '000000', 'profile_sidebar_fill_color': 'EFEFEF', 'profile_text_color': '333333', 'profile_use_background_image': True, 'profile_image_url': 'http://pbs.twimg.com/profile_images/1277576880091271168/f2roGHJk_normal.png', 'profile_image_url_https': 'https://pbs.twimg.com/profile_images/1277576880091271168/f2roGHJk_normal.png', 'profile_banner_url': 'https://pbs.twimg.com/profile_banners/69416519/1593184793', 'default_profile': False, 'default_profile_image': False, 'following': None, 'follow_request_sent': None, 'notifications': None}, 'geo': None, 'coordinates': None, 'place': None, 'contributors': None, 'is_quote_status': False, 'extended_tweet': {'full_text': 'El Gobierno derogó el decreto que permitía la extradición rápida de delincuentes extranjeros y negaba la entrada al país de personas con antecedentes https://t.co/StqKuwtIMD', 'display_text_range': [0, 173], 'entities': {'hashtags': [], 'urls': [{'url': 'https://t.co/StqKuwtIMD', 'expanded_url': 'https://bit.ly/3rwz9NP', 'display_url': 'bit.ly/3rwz9NP', 'indices': [150, 173]}], 'user_mentions': [], 'symbols': []}}, 'quote_count': 285, 'reply_count': 293, 'retweet_count': 395, 'favorite_count': 345, 'entities': {'hashtags': [], 'urls': [{'url': 'https://t.co/pOdewFH4xv', 'expanded_url': 'https://twitter.com/i/web/status/1367769303295131649', 'display_url': 'twitter.com/i/web/status/1…', 'indices': [117, 140]}], 'user_mentions': [], 'symbols': []}, 'favorited': False, 'retweeted': False, 'possibly_sensitive': False, 'filter_level': 'low', 'lang': 'es'}, 'quoted_status_permalink': {'url': 'https://t.co/A4oGjb6HE6', 'expanded': 'https://twitter.com/infobae/status/1367769303295131649', 'display': 'twitter.com/infobae/status…'}, 'is_quote_status': True, 'quote_count': 0, 'reply_count': 0, 'retweet_count': 0, 'favorite_count': 0, 'entities': {'hashtags': [], 'urls': [], 'user_mentions': [], 'symbols': []}, 'favorited': False, 'retweeted': False, 'filter_level': 'low', 'lang': 'es', 'timestamp_ms': '1614945803933'}\n"
          ]
        }
      ]
    },
    {
      "cell_type": "code",
      "source": [
        "# Create DataFrame from the dictionary\n",
        "df = pd.DataFrame([json_data])\n",
        "\n",
        "print(df)"
      ],
      "metadata": {
        "colab": {
          "base_uri": "https://localhost:8080/"
        },
        "id": "isvr_K94KhN7",
        "outputId": "ee8b8cad-422f-47ab-b5e6-ac5647bd2cf7"
      },
      "execution_count": null,
      "outputs": [
        {
          "output_type": "stream",
          "name": "stdout",
          "text": [
            "                       created_at                   id               id_str  \\\n",
            "0  Fri Mar 05 12:03:23 +0000 2021  1367807955677089793  1367807955677089793   \n",
            "\n",
            "                                                text  \\\n",
            "0  Que buena forma de empezar el día la concha de...   \n",
            "\n",
            "                                              source  truncated  \\\n",
            "0  <a href=\"http://twitter.com/download/android\" ...      False   \n",
            "\n",
            "  in_reply_to_status_id in_reply_to_status_id_str in_reply_to_user_id  \\\n",
            "0                  None                      None                None   \n",
            "\n",
            "  in_reply_to_user_id_str  ... quote_count reply_count retweet_count  \\\n",
            "0                    None  ...           0           0             0   \n",
            "\n",
            "  favorite_count                                           entities favorited  \\\n",
            "0              0  {'hashtags': [], 'urls': [], 'user_mentions': ...     False   \n",
            "\n",
            "   retweeted filter_level lang   timestamp_ms  \n",
            "0      False          low   es  1614945803933  \n",
            "\n",
            "[1 rows x 31 columns]\n"
          ]
        }
      ]
    }
  ],
  "metadata": {
    "colab": {
      "provenance": [],
      "gpuType": "T4",
      "name": "5_DNU_test.ipynb",
      "include_colab_link": true
    },
    "kernelspec": {
      "display_name": "Python 3",
      "name": "python3"
    },
    "language_info": {
      "codemirror_mode": {
        "name": "ipython",
        "version": 3
      },
      "file_extension": ".py",
      "mimetype": "text/x-python",
      "name": "python",
      "nbconvert_exporter": "python",
      "pygments_lexer": "ipython3",
      "version": "3.11.3"
    }
  },
  "nbformat": 4,
  "nbformat_minor": 0
}